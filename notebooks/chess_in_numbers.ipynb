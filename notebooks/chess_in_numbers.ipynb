{
 "cells": [
  {
   "cell_type": "markdown",
   "source": [
    "# Chess in numbers"
   ],
   "metadata": {
    "collapsed": false
   }
  },
  {
   "cell_type": "markdown",
   "source": [
    "## Number of squares"
   ],
   "metadata": {
    "collapsed": false
   }
  },
  {
   "cell_type": "code",
   "execution_count": null,
   "source": [
    "number_of_squares = 8*8\n",
    "print(f\"number_of_squares = {number_of_squares}\")"
   ],
   "metadata": {
    "collapsed": false,
    "is_executing": true
   },
   "outputs": []
  },
  {
   "cell_type": "markdown",
   "source": [
    "## Types of pieces"
   ],
   "metadata": {
    "collapsed": false
   }
  },
  {
   "cell_type": "markdown",
   "source": [
    "| Piece | White | Black |\n",
    "|-------|-------|-------|\n",
    "| King  | ♔     | ♚     |\n",
    "| Queen | ♕     | ♛     |\n",
    "| Rook  | ♖     | ♜     |\n",
    "| Bishop| ♗     | ♝     |\n",
    "| Knight| ♘     | ♞     |\n",
    "| Pawn  | ♙     | ♟     |"
   ],
   "metadata": {
    "collapsed": false
   }
  },
  {
   "cell_type": "markdown",
   "source": [
    "## Average length of the game"
   ],
   "metadata": {
    "collapsed": false
   }
  },
  {
   "cell_type": "code",
   "execution_count": null,
   "source": [
    "40"
   ],
   "metadata": {
    "collapsed": false,
    "is_executing": true
   },
   "outputs": []
  },
  {
   "cell_type": "markdown",
   "source": [
    "## Average number of legal moves in a position"
   ],
   "metadata": {
    "collapsed": false
   }
  },
  {
   "cell_type": "code",
   "execution_count": null,
   "source": [
    "30"
   ],
   "metadata": {
    "collapsed": false,
    "is_executing": true
   },
   "outputs": []
  },
  {
   "cell_type": "markdown",
   "source": [
    "## Number of possible games"
   ],
   "metadata": {
    "collapsed": false
   }
  },
  {
   "cell_type": "markdown",
   "source": [
    "**The Shannon number**, named after the American mathematician Claude Shannon, is a conservative lower bound of the game-tree complexity of chess of $10^{120}$, based on an average of about $10^3$ possibilities for a pair of moves consisting of a move for White followed by a move for Black, and a typical game lasting about 40 such pairs of moves."
   ],
   "metadata": {
    "collapsed": false
   }
  },
  {
   "cell_type": "markdown",
   "source": [
    "## Number of possible positions"
   ],
   "metadata": {
    "collapsed": false
   }
  },
  {
   "cell_type": "markdown",
   "source": [
    "John Tromp and Peter Österlund estimated the number of legal chess positions with a 95% confidence level at $(4.822 \\pm 0.028) \\times 10^{44}$, based on an efficiently computable bijection between integers and chess positions."
   ],
   "metadata": {
    "collapsed": false
   }
  },
  {
   "cell_type": "markdown",
   "source": [
    "## Number of possible moves in chess depending on the representation"
   ],
   "metadata": {
    "collapsed": false
   }
  },
  {
   "cell_type": "markdown",
   "source": [
    "A move is represented as a string in **UCI** format e.g. e2e4. So there is starting and ending square.\n",
    "Move with promotion (e.g. a7a8q) is considered different from a7a8 (non pawn move from the 7th to 8th rank).\n",
    "There are 1968 possible moves (1792 no-promotion moves, 88 promotion moves for white and 88 for black)."
   ],
   "metadata": {
    "collapsed": false
   }
  }
 ],
 "metadata": {
  "kernelspec": {
   "display_name": "Python 3",
   "language": "python",
   "name": "python3"
  },
  "language_info": {
   "codemirror_mode": {
    "name": "ipython",
    "version": 2
   },
   "file_extension": ".py",
   "mimetype": "text/x-python",
   "name": "python",
   "nbconvert_exporter": "python",
   "pygments_lexer": "ipython2",
   "version": "2.7.6"
  }
 },
 "nbformat": 4,
 "nbformat_minor": 0
}
